{
  "nbformat": 4,
  "nbformat_minor": 0,
  "metadata": {
    "colab": {
      "name": "AfifNurraihan_1800015022_TugasB4P1.ipynb",
      "provenance": [],
      "collapsed_sections": [],
      "toc_visible": true,
      "authorship_tag": "ABX9TyN4kWc4WSeuyQcEXfyYK7T8",
      "include_colab_link": true
    },
    "kernelspec": {
      "name": "python3",
      "display_name": "Python 3"
    },
    "language_info": {
      "name": "python"
    }
  },
  "cells": [
    {
      "cell_type": "markdown",
      "metadata": {
        "id": "view-in-github",
        "colab_type": "text"
      },
      "source": [
        "<a href=\"https://colab.research.google.com/github/AfifNurraihan/Data_Sains_Kelas_Mahir/blob/main/AfifNurraihan_1800015022_TugasB4P1.ipynb\" target=\"_parent\"><img src=\"https://colab.research.google.com/assets/colab-badge.svg\" alt=\"Open In Colab\"/></a>"
      ]
    },
    {
      "cell_type": "markdown",
      "metadata": {
        "id": "-O1h-l2JtfDu"
      },
      "source": [
        "Assalamualaikum Warahmatullahi Wabarakatuh\n",
        "\n",
        "Kesempatan kali ini saya akan berbagi note seputar KNN dan NB semampunya, \n",
        "\n",
        "**Let's Go !!!!!!!!!!!!!!!**\n"
      ]
    },
    {
      "cell_type": "markdown",
      "metadata": {
        "id": "HjfHYW-XthmE"
      },
      "source": [
        "#**Import Library**"
      ]
    },
    {
      "cell_type": "code",
      "metadata": {
        "id": "ZslEl9UKtGVA"
      },
      "source": [
        "import pandas as pd                           \n",
        "import numpy as np\n",
        "import seaborn as sns\n",
        "import matplotlib.pyplot as plt\n",
        "from sklearn.linear_model import LogisticRegression\n",
        "from sklearn.preprocessing import MinMaxScaler\n",
        "from collections import Counter\n",
        "from sklearn import datasets\n",
        "from sklearn.model_selection import train_test_split\n",
        "from matplotlib.colors import ListedColormap\n",
        "from sklearn.neighbors import KNeighborsClassifier\n",
        "from sklearn.naive_bayes import GaussianNB\n",
        "from sklearn.metrics import confusion_matrix\n",
        "from sklearn.metrics import accuracy_score\n",
        "import matplotlib.pyplot as plt\n",
        "cmap = ListedColormap(['#FF0000', '#00FF00', '#0000FF'])"
      ],
      "execution_count": 1,
      "outputs": []
    },
    {
      "cell_type": "markdown",
      "metadata": {
        "id": "8-nb3Tt45Mtn"
      },
      "source": [
        "#**Mengakses Dataset**"
      ]
    },
    {
      "cell_type": "code",
      "metadata": {
        "colab": {
          "base_uri": "https://localhost:8080/",
          "height": 204
        },
        "id": "pAgzMe7G5F6l",
        "outputId": "422acc2d-09cf-4173-aa9c-532361f057df"
      },
      "source": [
        "df=pd.read_csv('https://raw.githubusercontent.com/AfifNurraihan/Data_Sains_Kelas_Mahir/main/heart.csv',sep=\",\")\n",
        "df.head()"
      ],
      "execution_count": 2,
      "outputs": [
        {
          "output_type": "execute_result",
          "data": {
            "text/html": [
              "<div>\n",
              "<style scoped>\n",
              "    .dataframe tbody tr th:only-of-type {\n",
              "        vertical-align: middle;\n",
              "    }\n",
              "\n",
              "    .dataframe tbody tr th {\n",
              "        vertical-align: top;\n",
              "    }\n",
              "\n",
              "    .dataframe thead th {\n",
              "        text-align: right;\n",
              "    }\n",
              "</style>\n",
              "<table border=\"1\" class=\"dataframe\">\n",
              "  <thead>\n",
              "    <tr style=\"text-align: right;\">\n",
              "      <th></th>\n",
              "      <th>age</th>\n",
              "      <th>sex</th>\n",
              "      <th>cp</th>\n",
              "      <th>trestbps</th>\n",
              "      <th>chol</th>\n",
              "      <th>fbs</th>\n",
              "      <th>restecg</th>\n",
              "      <th>thalach</th>\n",
              "      <th>exang</th>\n",
              "      <th>oldpeak</th>\n",
              "      <th>slope</th>\n",
              "      <th>ca</th>\n",
              "      <th>thal</th>\n",
              "      <th>target</th>\n",
              "    </tr>\n",
              "  </thead>\n",
              "  <tbody>\n",
              "    <tr>\n",
              "      <th>0</th>\n",
              "      <td>63</td>\n",
              "      <td>1</td>\n",
              "      <td>3</td>\n",
              "      <td>145</td>\n",
              "      <td>233</td>\n",
              "      <td>1</td>\n",
              "      <td>0</td>\n",
              "      <td>150</td>\n",
              "      <td>0</td>\n",
              "      <td>2.3</td>\n",
              "      <td>0</td>\n",
              "      <td>0</td>\n",
              "      <td>1</td>\n",
              "      <td>1</td>\n",
              "    </tr>\n",
              "    <tr>\n",
              "      <th>1</th>\n",
              "      <td>37</td>\n",
              "      <td>1</td>\n",
              "      <td>2</td>\n",
              "      <td>130</td>\n",
              "      <td>250</td>\n",
              "      <td>0</td>\n",
              "      <td>1</td>\n",
              "      <td>187</td>\n",
              "      <td>0</td>\n",
              "      <td>3.5</td>\n",
              "      <td>0</td>\n",
              "      <td>0</td>\n",
              "      <td>2</td>\n",
              "      <td>1</td>\n",
              "    </tr>\n",
              "    <tr>\n",
              "      <th>2</th>\n",
              "      <td>41</td>\n",
              "      <td>0</td>\n",
              "      <td>1</td>\n",
              "      <td>130</td>\n",
              "      <td>204</td>\n",
              "      <td>0</td>\n",
              "      <td>0</td>\n",
              "      <td>172</td>\n",
              "      <td>0</td>\n",
              "      <td>1.4</td>\n",
              "      <td>2</td>\n",
              "      <td>0</td>\n",
              "      <td>2</td>\n",
              "      <td>1</td>\n",
              "    </tr>\n",
              "    <tr>\n",
              "      <th>3</th>\n",
              "      <td>56</td>\n",
              "      <td>1</td>\n",
              "      <td>1</td>\n",
              "      <td>120</td>\n",
              "      <td>236</td>\n",
              "      <td>0</td>\n",
              "      <td>1</td>\n",
              "      <td>178</td>\n",
              "      <td>0</td>\n",
              "      <td>0.8</td>\n",
              "      <td>2</td>\n",
              "      <td>0</td>\n",
              "      <td>2</td>\n",
              "      <td>1</td>\n",
              "    </tr>\n",
              "    <tr>\n",
              "      <th>4</th>\n",
              "      <td>57</td>\n",
              "      <td>0</td>\n",
              "      <td>0</td>\n",
              "      <td>120</td>\n",
              "      <td>354</td>\n",
              "      <td>0</td>\n",
              "      <td>1</td>\n",
              "      <td>163</td>\n",
              "      <td>1</td>\n",
              "      <td>0.6</td>\n",
              "      <td>2</td>\n",
              "      <td>0</td>\n",
              "      <td>2</td>\n",
              "      <td>1</td>\n",
              "    </tr>\n",
              "  </tbody>\n",
              "</table>\n",
              "</div>"
            ],
            "text/plain": [
              "   age  sex  cp  trestbps  chol  fbs  ...  exang  oldpeak  slope  ca  thal  target\n",
              "0   63    1   3       145   233    1  ...      0      2.3      0   0     1       1\n",
              "1   37    1   2       130   250    0  ...      0      3.5      0   0     2       1\n",
              "2   41    0   1       130   204    0  ...      0      1.4      2   0     2       1\n",
              "3   56    1   1       120   236    0  ...      0      0.8      2   0     2       1\n",
              "4   57    0   0       120   354    0  ...      1      0.6      2   0     2       1\n",
              "\n",
              "[5 rows x 14 columns]"
            ]
          },
          "metadata": {
            "tags": []
          },
          "execution_count": 2
        }
      ]
    },
    {
      "cell_type": "markdown",
      "metadata": {
        "id": "PIeHs6VD4ltW"
      },
      "source": [
        "##**Tujuan Analisis Data**\n",
        "Melakukan klasifikasi pasien berdasarkan Jenis Kelamin pada kasus ini"
      ]
    },
    {
      "cell_type": "markdown",
      "metadata": {
        "id": "ImPYFHtHyEXp"
      },
      "source": [
        "Feature dalam dataset sebagai berikut :\n",
        "age = usia dalam tahun\n",
        "\n",
        "sex = (1 = laki-laki; 0 = perempuan)\n",
        "\n",
        "cp = tipe nyeri dada\n",
        "\n",
        "trestbps = tekanan darah istirahat (dalam mm Hg saat masuk ke rumah sakit)\n",
        "\n",
        "chol = serum kolestoral dalam mg / dl\n",
        "\n",
        "fbs = (gula darah puasa> 120 mg / dl) (1 = true; 0 = false)\n",
        "\n",
        "restecg = hasil elektrokardiografi istirahat\n",
        "\n",
        "thalach = detak jantung maksimum tercapai\n",
        "\n",
        "exang = angina yang diinduksi oleh olahraga (1 = ya; 0 = tidak)\n",
        "\n",
        "oldpeak = depresi ST yang disebabkan oleh olahraga relatif terhadap istirahat\n",
        "\n",
        "slope = kemiringan segmen ST latihan puncak\n",
        "\n",
        "ca = jumlah pembuluh besar (0-3) diwarnai dengan tepung\n",
        "\n",
        "thal = 3 = normal; 6 = cacat tetap; 7 = cacat yang dapat dibalik\n",
        "\n",
        "target = memiliki penyakit atau tidak (1 = ya, 0 = tidak)"
      ]
    },
    {
      "cell_type": "markdown",
      "metadata": {
        "id": "Qh5Z17u8yn4m"
      },
      "source": [
        "#**EDA & Data Preprocessing**"
      ]
    },
    {
      "cell_type": "markdown",
      "metadata": {
        "id": "xvjdiYWP3Tfo"
      },
      "source": [
        "###Check Dimensi"
      ]
    },
    {
      "cell_type": "code",
      "metadata": {
        "colab": {
          "base_uri": "https://localhost:8080/"
        },
        "id": "laRpThd_vMzr",
        "outputId": "89524f60-1927-424a-c130-8c04caf50563"
      },
      "source": [
        "#Melihat ukuran Data \n",
        "df.shape "
      ],
      "execution_count": 3,
      "outputs": [
        {
          "output_type": "execute_result",
          "data": {
            "text/plain": [
              "(303, 14)"
            ]
          },
          "metadata": {
            "tags": []
          },
          "execution_count": 3
        }
      ]
    },
    {
      "cell_type": "markdown",
      "metadata": {
        "id": "fH5mAVmkzRG3"
      },
      "source": [
        "Jumlah kolom 14 dengan jumlah baris 303"
      ]
    },
    {
      "cell_type": "markdown",
      "metadata": {
        "id": "vg6mRam43jln"
      },
      "source": [
        "###Tipe Data"
      ]
    },
    {
      "cell_type": "code",
      "metadata": {
        "colab": {
          "base_uri": "https://localhost:8080/"
        },
        "id": "2FskPZT_zPAK",
        "outputId": "86e6beee-5298-461c-d77b-24083d4e6387"
      },
      "source": [
        "#Melihat tipe data\n",
        "df.dtypes"
      ],
      "execution_count": 4,
      "outputs": [
        {
          "output_type": "execute_result",
          "data": {
            "text/plain": [
              "age           int64\n",
              "sex           int64\n",
              "cp            int64\n",
              "trestbps      int64\n",
              "chol          int64\n",
              "fbs           int64\n",
              "restecg       int64\n",
              "thalach       int64\n",
              "exang         int64\n",
              "oldpeak     float64\n",
              "slope         int64\n",
              "ca            int64\n",
              "thal          int64\n",
              "target        int64\n",
              "dtype: object"
            ]
          },
          "metadata": {
            "tags": []
          },
          "execution_count": 4
        }
      ]
    },
    {
      "cell_type": "code",
      "metadata": {
        "colab": {
          "base_uri": "https://localhost:8080/"
        },
        "id": "kJRrCMGLzh1c",
        "outputId": "40cf5aec-94ef-412d-cea6-69b8e623f5c6"
      },
      "source": [
        "#Melihat informasi lengkap terkait data \n",
        "df.info()"
      ],
      "execution_count": 5,
      "outputs": [
        {
          "output_type": "stream",
          "text": [
            "<class 'pandas.core.frame.DataFrame'>\n",
            "Int64Index: 303 entries, 0 to 302\n",
            "Data columns (total 14 columns):\n",
            " #   Column    Non-Null Count  Dtype  \n",
            "---  ------    --------------  -----  \n",
            " 0   age       303 non-null    int64  \n",
            " 1   sex       303 non-null    int64  \n",
            " 2   cp        303 non-null    int64  \n",
            " 3   trestbps  303 non-null    int64  \n",
            " 4   chol      303 non-null    int64  \n",
            " 5   fbs       303 non-null    int64  \n",
            " 6   restecg   303 non-null    int64  \n",
            " 7   thalach   303 non-null    int64  \n",
            " 8   exang     303 non-null    int64  \n",
            " 9   oldpeak   303 non-null    float64\n",
            " 10  slope     303 non-null    int64  \n",
            " 11  ca        303 non-null    int64  \n",
            " 12  thal      303 non-null    int64  \n",
            " 13  target    303 non-null    int64  \n",
            "dtypes: float64(1), int64(13)\n",
            "memory usage: 35.5 KB\n"
          ],
          "name": "stdout"
        }
      ]
    },
    {
      "cell_type": "markdown",
      "metadata": {
        "id": "IvqXI5GM3AqU"
      },
      "source": [
        "Terlihat bahwa semua kolom bertipe integer dan hanya kolom oldpeak yang bertipe float"
      ]
    },
    {
      "cell_type": "markdown",
      "metadata": {
        "id": "r4F4Ho373n5u"
      },
      "source": [
        "### Mengecek Missing Value"
      ]
    },
    {
      "cell_type": "code",
      "metadata": {
        "colab": {
          "base_uri": "https://localhost:8080/"
        },
        "id": "o2PFR6pnzrSv",
        "outputId": "f3db7729-4ba8-4e61-893c-b14976ec6862"
      },
      "source": [
        "#Mengecek jumlah nilai yang hilang pada setiap kolom\n",
        "df.isnull().sum()"
      ],
      "execution_count": 6,
      "outputs": [
        {
          "output_type": "execute_result",
          "data": {
            "text/plain": [
              "age         0\n",
              "sex         0\n",
              "cp          0\n",
              "trestbps    0\n",
              "chol        0\n",
              "fbs         0\n",
              "restecg     0\n",
              "thalach     0\n",
              "exang       0\n",
              "oldpeak     0\n",
              "slope       0\n",
              "ca          0\n",
              "thal        0\n",
              "target      0\n",
              "dtype: int64"
            ]
          },
          "metadata": {
            "tags": []
          },
          "execution_count": 6
        }
      ]
    },
    {
      "cell_type": "markdown",
      "metadata": {
        "id": "xWjqCjKD0caT"
      },
      "source": [
        "Karena output diatas menunjukan angka '0' pada setiap kolom data. Maka, tidak di temukan ada nilai yang hilang."
      ]
    },
    {
      "cell_type": "code",
      "metadata": {
        "colab": {
          "base_uri": "https://localhost:8080/",
          "height": 313
        },
        "id": "wRKkqYsZ0ZlG",
        "outputId": "a4aac598-545f-4b13-84a0-862ce080d51d"
      },
      "source": [
        "#Plot missing value\n",
        "sns.heatmap(df.isnull(),cbar=False,yticklabels=False,cmap = 'viridis')"
      ],
      "execution_count": 7,
      "outputs": [
        {
          "output_type": "execute_result",
          "data": {
            "text/plain": [
              "<matplotlib.axes._subplots.AxesSubplot at 0x7f9863df0c10>"
            ]
          },
          "metadata": {
            "tags": []
          },
          "execution_count": 7
        },
        {
          "output_type": "display_data",
          "data": {
            "image/png": "[encoded data removed]",
            "text/plain": [
              "<Figure size 432x288 with 1 Axes>"
            ]
          },
          "metadata": {
            "tags": [],
            "needs_background": "light"
          }
        }
      ]
    },
    {
      "cell_type": "markdown",
      "metadata": {
        "id": "0JEbfIKE31vb"
      },
      "source": [
        "Plot diatas tidak menunjukan adanya nilai yang hilang pada setiap kolom data"
      ]
    },
    {
      "cell_type": "markdown",
      "metadata": {
        "id": "gcfYGewR3vBZ"
      },
      "source": [
        "###Statistik Data"
      ]
    },
    {
      "cell_type": "code",
      "metadata": {
        "colab": {
          "base_uri": "https://localhost:8080/",
          "height": 317
        },
        "id": "YNHZE2Df3xDE",
        "outputId": "806a0081-4685-43d9-ce76-f2d1a7df7ac7"
      },
      "source": [
        "#Mengecek statistik data\n",
        "df.describe() "
      ],
      "execution_count": 8,
      "outputs": [
        {
          "output_type": "execute_result",
          "data": {
            "text/html": [
              "<div>\n",
              "<style scoped>\n",
              "    .dataframe tbody tr th:only-of-type {\n",
              "        vertical-align: middle;\n",
              "    }\n",
              "\n",
              "    .dataframe tbody tr th {\n",
              "        vertical-align: top;\n",
              "    }\n",
              "\n",
              "    .dataframe thead th {\n",
              "        text-align: right;\n",
              "    }\n",
              "</style>\n",
              "<table border=\"1\" class=\"dataframe\">\n",
              "  <thead>\n",
              "    <tr style=\"text-align: right;\">\n",
              "      <th></th>\n",
              "      <th>age</th>\n",
              "      <th>sex</th>\n",
              "      <th>cp</th>\n",
              "      <th>trestbps</th>\n",
              "      <th>chol</th>\n",
              "      <th>fbs</th>\n",
              "      <th>restecg</th>\n",
              "      <th>thalach</th>\n",
              "      <th>exang</th>\n",
              "      <th>oldpeak</th>\n",
              "      <th>slope</th>\n",
              "      <th>ca</th>\n",
              "      <th>thal</th>\n",
              "      <th>target</th>\n",
              "    </tr>\n",
              "  </thead>\n",
              "  <tbody>\n",
              "    <tr>\n",
              "      <th>count</th>\n",
              "      <td>303.000000</td>\n",
              "      <td>303.000000</td>\n",
              "      <td>303.000000</td>\n",
              "      <td>303.000000</td>\n",
              "      <td>303.000000</td>\n",
              "      <td>303.000000</td>\n",
              "      <td>303.000000</td>\n",
              "      <td>303.000000</td>\n",
              "      <td>303.000000</td>\n",
              "      <td>303.000000</td>\n",
              "      <td>303.000000</td>\n",
              "      <td>303.000000</td>\n",
              "      <td>303.000000</td>\n",
              "      <td>303.000000</td>\n",
              "    </tr>\n",
              "    <tr>\n",
              "      <th>mean</th>\n",
              "      <td>54.366337</td>\n",
              "      <td>0.683168</td>\n",
              "      <td>0.966997</td>\n",
              "      <td>131.623762</td>\n",
              "      <td>246.264026</td>\n",
              "      <td>0.148515</td>\n",
              "      <td>0.528053</td>\n",
              "      <td>149.646865</td>\n",
              "      <td>0.326733</td>\n",
              "      <td>1.039604</td>\n",
              "      <td>1.399340</td>\n",
              "      <td>0.729373</td>\n",
              "      <td>2.313531</td>\n",
              "      <td>0.544554</td>\n",
              "    </tr>\n",
              "    <tr>\n",
              "      <th>std</th>\n",
              "      <td>9.082101</td>\n",
              "      <td>0.466011</td>\n",
              "      <td>1.032052</td>\n",
              "      <td>17.538143</td>\n",
              "      <td>51.830751</td>\n",
              "      <td>0.356198</td>\n",
              "      <td>0.525860</td>\n",
              "      <td>22.905161</td>\n",
              "      <td>0.469794</td>\n",
              "      <td>1.161075</td>\n",
              "      <td>0.616226</td>\n",
              "      <td>1.022606</td>\n",
              "      <td>0.612277</td>\n",
              "      <td>0.498835</td>\n",
              "    </tr>\n",
              "    <tr>\n",
              "      <th>min</th>\n",
              "      <td>29.000000</td>\n",
              "      <td>0.000000</td>\n",
              "      <td>0.000000</td>\n",
              "      <td>94.000000</td>\n",
              "      <td>126.000000</td>\n",
              "      <td>0.000000</td>\n",
              "      <td>0.000000</td>\n",
              "      <td>71.000000</td>\n",
              "      <td>0.000000</td>\n",
              "      <td>0.000000</td>\n",
              "      <td>0.000000</td>\n",
              "      <td>0.000000</td>\n",
              "      <td>0.000000</td>\n",
              "      <td>0.000000</td>\n",
              "    </tr>\n",
              "    <tr>\n",
              "      <th>25%</th>\n",
              "      <td>47.500000</td>\n",
              "      <td>0.000000</td>\n",
              "      <td>0.000000</td>\n",
              "      <td>120.000000</td>\n",
              "      <td>211.000000</td>\n",
              "      <td>0.000000</td>\n",
              "      <td>0.000000</td>\n",
              "      <td>133.500000</td>\n",
              "      <td>0.000000</td>\n",
              "      <td>0.000000</td>\n",
              "      <td>1.000000</td>\n",
              "      <td>0.000000</td>\n",
              "      <td>2.000000</td>\n",
              "      <td>0.000000</td>\n",
              "    </tr>\n",
              "    <tr>\n",
              "      <th>50%</th>\n",
              "      <td>55.000000</td>\n",
              "      <td>1.000000</td>\n",
              "      <td>1.000000</td>\n",
              "      <td>130.000000</td>\n",
              "      <td>240.000000</td>\n",
              "      <td>0.000000</td>\n",
              "      <td>1.000000</td>\n",
              "      <td>153.000000</td>\n",
              "      <td>0.000000</td>\n",
              "      <td>0.800000</td>\n",
              "      <td>1.000000</td>\n",
              "      <td>0.000000</td>\n",
              "      <td>2.000000</td>\n",
              "      <td>1.000000</td>\n",
              "    </tr>\n",
              "    <tr>\n",
              "      <th>75%</th>\n",
              "      <td>61.000000</td>\n",
              "      <td>1.000000</td>\n",
              "      <td>2.000000</td>\n",
              "      <td>140.000000</td>\n",
              "      <td>274.500000</td>\n",
              "      <td>0.000000</td>\n",
              "      <td>1.000000</td>\n",
              "      <td>166.000000</td>\n",
              "      <td>1.000000</td>\n",
              "      <td>1.600000</td>\n",
              "      <td>2.000000</td>\n",
              "      <td>1.000000</td>\n",
              "      <td>3.000000</td>\n",
              "      <td>1.000000</td>\n",
              "    </tr>\n",
              "    <tr>\n",
              "      <th>max</th>\n",
              "      <td>77.000000</td>\n",
              "      <td>1.000000</td>\n",
              "      <td>3.000000</td>\n",
              "      <td>200.000000</td>\n",
              "      <td>564.000000</td>\n",
              "      <td>1.000000</td>\n",
              "      <td>2.000000</td>\n",
              "      <td>202.000000</td>\n",
              "      <td>1.000000</td>\n",
              "      <td>6.200000</td>\n",
              "      <td>2.000000</td>\n",
              "      <td>4.000000</td>\n",
              "      <td>3.000000</td>\n",
              "      <td>1.000000</td>\n",
              "    </tr>\n",
              "  </tbody>\n",
              "</table>\n",
              "</div>"
            ],
            "text/plain": [
              "              age         sex          cp  ...          ca        thal      target\n",
              "count  303.000000  303.000000  303.000000  ...  303.000000  303.000000  303.000000\n",
              "mean    54.366337    0.683168    0.966997  ...    0.729373    2.313531    0.544554\n",
              "std      9.082101    0.466011    1.032052  ...    1.022606    0.612277    0.498835\n",
              "min     29.000000    0.000000    0.000000  ...    0.000000    0.000000    0.000000\n",
              "25%     47.500000    0.000000    0.000000  ...    0.000000    2.000000    0.000000\n",
              "50%     55.000000    1.000000    1.000000  ...    0.000000    2.000000    1.000000\n",
              "75%     61.000000    1.000000    2.000000  ...    1.000000    3.000000    1.000000\n",
              "max     77.000000    1.000000    3.000000  ...    4.000000    3.000000    1.000000\n",
              "\n",
              "[8 rows x 14 columns]"
            ]
          },
          "metadata": {
            "tags": []
          },
          "execution_count": 8
        }
      ]
    },
    {
      "cell_type": "markdown",
      "metadata": {
        "id": "DR5Uy1365pTv"
      },
      "source": [
        "###Normalisasi Data\n"
      ]
    },
    {
      "cell_type": "code",
      "metadata": {
        "colab": {
          "base_uri": "https://localhost:8080/",
          "height": 419
        },
        "id": "ZFDjypdo4GVw",
        "outputId": "7e9f4c1a-6ced-436a-9125-cfeac51ea1d5"
      },
      "source": [
        "#Normalisasi data dengan MinMaxScaler\n",
        "from sklearn.preprocessing import MinMaxScaler\n",
        "scaler = MinMaxScaler()\n",
        "df_norm = pd.DataFrame(scaler.fit_transform(df), columns=df.columns)\n",
        "df_norm"
      ],
      "execution_count": 9,
      "outputs": [
        {
          "output_type": "execute_result",
          "data": {
            "text/html": [
              "<div>\n",
              "<style scoped>\n",
              "    .dataframe tbody tr th:only-of-type {\n",
              "        vertical-align: middle;\n",
              "    }\n",
              "\n",
              "    .dataframe tbody tr th {\n",
              "        vertical-align: top;\n",
              "    }\n",
              "\n",
              "    .dataframe thead th {\n",
              "        text-align: right;\n",
              "    }\n",
              "</style>\n",
              "<table border=\"1\" class=\"dataframe\">\n",
              "  <thead>\n",
              "    <tr style=\"text-align: right;\">\n",
              "      <th></th>\n",
              "      <th>age</th>\n",
              "      <th>sex</th>\n",
              "      <th>cp</th>\n",
              "      <th>trestbps</th>\n",
              "      <th>chol</th>\n",
              "      <th>fbs</th>\n",
              "      <th>restecg</th>\n",
              "      <th>thalach</th>\n",
              "      <th>exang</th>\n",
              "      <th>oldpeak</th>\n",
              "      <th>slope</th>\n",
              "      <th>ca</th>\n",
              "      <th>thal</th>\n",
              "      <th>target</th>\n",
              "    </tr>\n",
              "  </thead>\n",
              "  <tbody>\n",
              "    <tr>\n",
              "      <th>0</th>\n",
              "      <td>0.708333</td>\n",
              "      <td>1.0</td>\n",
              "      <td>1.000000</td>\n",
              "      <td>0.481132</td>\n",
              "      <td>0.244292</td>\n",
              "      <td>1.0</td>\n",
              "      <td>0.0</td>\n",
              "      <td>0.603053</td>\n",
              "      <td>0.0</td>\n",
              "      <td>0.370968</td>\n",
              "      <td>0.0</td>\n",
              "      <td>0.00</td>\n",
              "      <td>0.333333</td>\n",
              "      <td>1.0</td>\n",
              "    </tr>\n",
              "    <tr>\n",
              "      <th>1</th>\n",
              "      <td>0.166667</td>\n",
              "      <td>1.0</td>\n",
              "      <td>0.666667</td>\n",
              "      <td>0.339623</td>\n",
              "      <td>0.283105</td>\n",
              "      <td>0.0</td>\n",
              "      <td>0.5</td>\n",
              "      <td>0.885496</td>\n",
              "      <td>0.0</td>\n",
              "      <td>0.564516</td>\n",
              "      <td>0.0</td>\n",
              "      <td>0.00</td>\n",
              "      <td>0.666667</td>\n",
              "      <td>1.0</td>\n",
              "    </tr>\n",
              "    <tr>\n",
              "      <th>2</th>\n",
              "      <td>0.250000</td>\n",
              "      <td>0.0</td>\n",
              "      <td>0.333333</td>\n",
              "      <td>0.339623</td>\n",
              "      <td>0.178082</td>\n",
              "      <td>0.0</td>\n",
              "      <td>0.0</td>\n",
              "      <td>0.770992</td>\n",
              "      <td>0.0</td>\n",
              "      <td>0.225806</td>\n",
              "      <td>1.0</td>\n",
              "      <td>0.00</td>\n",
              "      <td>0.666667</td>\n",
              "      <td>1.0</td>\n",
              "    </tr>\n",
              "    <tr>\n",
              "      <th>3</th>\n",
              "      <td>0.562500</td>\n",
              "      <td>1.0</td>\n",
              "      <td>0.333333</td>\n",
              "      <td>0.245283</td>\n",
              "      <td>0.251142</td>\n",
              "      <td>0.0</td>\n",
              "      <td>0.5</td>\n",
              "      <td>0.816794</td>\n",
              "      <td>0.0</td>\n",
              "      <td>0.129032</td>\n",
              "      <td>1.0</td>\n",
              "      <td>0.00</td>\n",
              "      <td>0.666667</td>\n",
              "      <td>1.0</td>\n",
              "    </tr>\n",
              "    <tr>\n",
              "      <th>4</th>\n",
              "      <td>0.583333</td>\n",
              "      <td>0.0</td>\n",
              "      <td>0.000000</td>\n",
              "      <td>0.245283</td>\n",
              "      <td>0.520548</td>\n",
              "      <td>0.0</td>\n",
              "      <td>0.5</td>\n",
              "      <td>0.702290</td>\n",
              "      <td>1.0</td>\n",
              "      <td>0.096774</td>\n",
              "      <td>1.0</td>\n",
              "      <td>0.00</td>\n",
              "      <td>0.666667</td>\n",
              "      <td>1.0</td>\n",
              "    </tr>\n",
              "    <tr>\n",
              "      <th>...</th>\n",
              "      <td>...</td>\n",
              "      <td>...</td>\n",
              "      <td>...</td>\n",
              "      <td>...</td>\n",
              "      <td>...</td>\n",
              "      <td>...</td>\n",
              "      <td>...</td>\n",
              "      <td>...</td>\n",
              "      <td>...</td>\n",
              "      <td>...</td>\n",
              "      <td>...</td>\n",
              "      <td>...</td>\n",
              "      <td>...</td>\n",
              "      <td>...</td>\n",
              "    </tr>\n",
              "    <tr>\n",
              "      <th>298</th>\n",
              "      <td>0.583333</td>\n",
              "      <td>0.0</td>\n",
              "      <td>0.000000</td>\n",
              "      <td>0.433962</td>\n",
              "      <td>0.262557</td>\n",
              "      <td>0.0</td>\n",
              "      <td>0.5</td>\n",
              "      <td>0.396947</td>\n",
              "      <td>1.0</td>\n",
              "      <td>0.032258</td>\n",
              "      <td>0.5</td>\n",
              "      <td>0.00</td>\n",
              "      <td>1.000000</td>\n",
              "      <td>0.0</td>\n",
              "    </tr>\n",
              "    <tr>\n",
              "      <th>299</th>\n",
              "      <td>0.333333</td>\n",
              "      <td>1.0</td>\n",
              "      <td>1.000000</td>\n",
              "      <td>0.150943</td>\n",
              "      <td>0.315068</td>\n",
              "      <td>0.0</td>\n",
              "      <td>0.5</td>\n",
              "      <td>0.465649</td>\n",
              "      <td>0.0</td>\n",
              "      <td>0.193548</td>\n",
              "      <td>0.5</td>\n",
              "      <td>0.00</td>\n",
              "      <td>1.000000</td>\n",
              "      <td>0.0</td>\n",
              "    </tr>\n",
              "    <tr>\n",
              "      <th>300</th>\n",
              "      <td>0.812500</td>\n",
              "      <td>1.0</td>\n",
              "      <td>0.000000</td>\n",
              "      <td>0.471698</td>\n",
              "      <td>0.152968</td>\n",
              "      <td>1.0</td>\n",
              "      <td>0.5</td>\n",
              "      <td>0.534351</td>\n",
              "      <td>0.0</td>\n",
              "      <td>0.548387</td>\n",
              "      <td>0.5</td>\n",
              "      <td>0.50</td>\n",
              "      <td>1.000000</td>\n",
              "      <td>0.0</td>\n",
              "    </tr>\n",
              "    <tr>\n",
              "      <th>301</th>\n",
              "      <td>0.583333</td>\n",
              "      <td>1.0</td>\n",
              "      <td>0.000000</td>\n",
              "      <td>0.339623</td>\n",
              "      <td>0.011416</td>\n",
              "      <td>0.0</td>\n",
              "      <td>0.5</td>\n",
              "      <td>0.335878</td>\n",
              "      <td>1.0</td>\n",
              "      <td>0.193548</td>\n",
              "      <td>0.5</td>\n",
              "      <td>0.25</td>\n",
              "      <td>1.000000</td>\n",
              "      <td>0.0</td>\n",
              "    </tr>\n",
              "    <tr>\n",
              "      <th>302</th>\n",
              "      <td>0.583333</td>\n",
              "      <td>0.0</td>\n",
              "      <td>0.333333</td>\n",
              "      <td>0.339623</td>\n",
              "      <td>0.251142</td>\n",
              "      <td>0.0</td>\n",
              "      <td>0.0</td>\n",
              "      <td>0.786260</td>\n",
              "      <td>0.0</td>\n",
              "      <td>0.000000</td>\n",
              "      <td>0.5</td>\n",
              "      <td>0.25</td>\n",
              "      <td>0.666667</td>\n",
              "      <td>0.0</td>\n",
              "    </tr>\n",
              "  </tbody>\n",
              "</table>\n",
              "<p>303 rows × 14 columns</p>\n",
              "</div>"
            ],
            "text/plain": [
              "          age  sex        cp  trestbps  ...  slope    ca      thal  target\n",
              "0    0.708333  1.0  1.000000  0.481132  ...    0.0  0.00  0.333333     1.0\n",
              "1    0.166667  1.0  0.666667  0.339623  ...    0.0  0.00  0.666667     1.0\n",
              "2    0.250000  0.0  0.333333  0.339623  ...    1.0  0.00  0.666667     1.0\n",
              "3    0.562500  1.0  0.333333  0.245283  ...    1.0  0.00  0.666667     1.0\n",
              "4    0.583333  0.0  0.000000  0.245283  ...    1.0  0.00  0.666667     1.0\n",
              "..        ...  ...       ...       ...  ...    ...   ...       ...     ...\n",
              "298  0.583333  0.0  0.000000  0.433962  ...    0.5  0.00  1.000000     0.0\n",
              "299  0.333333  1.0  1.000000  0.150943  ...    0.5  0.00  1.000000     0.0\n",
              "300  0.812500  1.0  0.000000  0.471698  ...    0.5  0.50  1.000000     0.0\n",
              "301  0.583333  1.0  0.000000  0.339623  ...    0.5  0.25  1.000000     0.0\n",
              "302  0.583333  0.0  0.333333  0.339623  ...    0.5  0.25  0.666667     0.0\n",
              "\n",
              "[303 rows x 14 columns]"
            ]
          },
          "metadata": {
            "tags": []
          },
          "execution_count": 9
        }
      ]
    },
    {
      "cell_type": "markdown",
      "metadata": {
        "id": "CK9ioVsa6C-5"
      },
      "source": [
        "#**Pemodelan KNN (From Scratch & Scikit Learn)**"
      ]
    },
    {
      "cell_type": "markdown",
      "metadata": {
        "id": "cTAS2pym6F82"
      },
      "source": [
        "**Model K-Nearest Neighbours**\n",
        "\n",
        "*Ide Dasar :*\n",
        "\n",
        "***Mengklasifikasikan sebuah data ke dalam sebuah kelas didasarkan pada tetangga terdekatnya***\n",
        "\n",
        "*Algoritma KNN :*\n",
        "\n",
        "Klasifikasi dengan algoritma KNN dilakukan dengan langkah-langkah berikut:\n",
        "\n",
        "1. Menghitung jarak antara data uji dan masing-masing data latih\n",
        "2. Mengurutkan jarak dari terdekat hingga terjauh\n",
        "3. Mengambil sejumlah k teratas dari vektor jarak(Tetangga)\n",
        "4. Mengambil kelas yang paling sering muncul pada baris yang dipilih\n",
        "5. Memilih kelas dari data prediksi"
      ]
    },
    {
      "cell_type": "markdown",
      "metadata": {
        "id": "yWZNMyN1AjSo"
      },
      "source": [
        "###Perhitungan From Scratch"
      ]
    },
    {
      "cell_type": "code",
      "metadata": {
        "id": "k1kT40oc56-5"
      },
      "source": [
        "y = df.target.values\n",
        "x_data = df.drop(['target'], axis = 1)"
      ],
      "execution_count": 10,
      "outputs": []
    },
    {
      "cell_type": "code",
      "metadata": {
        "id": "Lpk6lria_Bu-"
      },
      "source": [
        "# Normalisasi\n",
        "x = (x_data - np.min(x_data)) / (np.max(x_data) - np.min(x_data)).values"
      ],
      "execution_count": 11,
      "outputs": []
    },
    {
      "cell_type": "code",
      "metadata": {
        "id": "2_bmR-gX_pJm"
      },
      "source": [
        "# Membagi data menjadi data latih dan data uji\n",
        "x_train, x_test, y_train, y_test = train_test_split(x,y,test_size = 0.21, random_state=60)\n",
        "x_train, x_test, y_train, y_test = train_test_split(x, y)"
      ],
      "execution_count": 12,
      "outputs": []
    },
    {
      "cell_type": "code",
      "metadata": {
        "id": "2r0DePQf_M4a"
      },
      "source": [
        "#Menyimpan data uji dan data latih kedalam bentuk vektor \n",
        "x_train = x_train.T\n",
        "y_train = y_train.T\n",
        "x_test = x_test.T\n",
        "y_test = y_test.T"
      ],
      "execution_count": 13,
      "outputs": []
    },
    {
      "cell_type": "code",
      "metadata": {
        "id": "skDJzRuABU8m"
      },
      "source": [
        "# Mendefinisikan jarak Euclidean\n",
        "def jarak_euclidean(x1, x2):\n",
        "        return np.sqrt(np.sum((x1 - x2)**2))"
      ],
      "execution_count": 14,
      "outputs": []
    },
    {
      "cell_type": "code",
      "metadata": {
        "id": "Ibq_nCxRBnf-"
      },
      "source": [
        "# Klasifikasi KNN untuk satu data uji\n",
        "def knn(x_train, x_test, y_train, k):\n",
        "    # Hitung jarak antara x dan semua contoh di set pelatihan\n",
        "    jarak = [jarak_euclidean(x_test, x_train) for x_train in x_train]\n",
        "    print(jarak)\n",
        "    # Urutkan berdasarkan jarak dan indeks kembalian dari k tetangga pertama\n",
        "    k_idx = np.argsort(jarak)[:k]\n",
        "    print(k_idx)\n",
        "    # Ekstrak label k sampel pelatihan tetangga terdekat\n",
        "    k_tetangga_labels = [y_train[i] for i in k_idx]  \n",
        "    print(k_tetangga_labels)\n",
        "    # mengembalikan label kelas yang paling umum\n",
        "    label_populer = Counter(k_tetangga_labels).most_common(2)\n",
        "    print(label_populer)\n",
        "    return label_populer[0][0], k_idx"
      ],
      "execution_count": 15,
      "outputs": []
    },
    {
      "cell_type": "code",
      "metadata": {
        "id": "f-O8hAnKB7Ws"
      },
      "source": [
        "# Klasifikasi KNN untuk sebuah vektor data uji\n",
        "def KNN(x_train, x_test, y_train, k):\n",
        "    y_pred=[]\n",
        "    for x in x_test:\n",
        "        pred, tetangga=knn(x_train, x, y_train, k)\n",
        "        y_pred.append(pred)\n",
        "    return np.array(y_pred)"
      ],
      "execution_count": 16,
      "outputs": []
    },
    {
      "cell_type": "code",
      "metadata": {
        "id": "yPwKVsaGB99r"
      },
      "source": [
        "# Membuat fungsi untuk mengukur akurasi\n",
        "def akurasi(y_asli, y_pred):\n",
        "    akr = np.sum(y_asli == y_pred) / len(y_asli)\n",
        "    return akr*100"
      ],
      "execution_count": 17,
      "outputs": []
    },
    {
      "cell_type": "code",
      "metadata": {
        "colab": {
          "base_uri": "https://localhost:8080/"
        },
        "id": "_0KAIEWNKSSn",
        "outputId": "cb7d7deb-6185-4e6c-f646-35ffbb175f20"
      },
      "source": [
        "prediksi, tetangga=knn(x_train, y_test[0], y_train, 8)"
      ],
      "execution_count": 18,
      "outputs": [
        {
          "output_type": "stream",
          "text": [
            "[157.0, 290.0, 56.0, 158.0, 159.0, 249.0, 185.0, 128.0, 230.0, 162.0, 139.0, 9.0, 237.0, 150.0, 149.0, 201.0, 203.0, 256.0, 140.0, 246.0, 136.0, 196.0, 107.0, 165.0, 67.0, 97.0, 243.0, 82.0, 164.0, 274.0, 226.0, 33.0, 32.0, 45.0, 134.0, 11.0, 234.0, 214.0, 39.0, 167.0, 229.0, 227.0, 179.0, 266.0, 180.0, 102.0, 155.0, 111.0, 83.0, 259.0, 48.0, 76.0, 17.0, 177.0, 12.0, 126.0, 173.0, 224.0, 5.0, 96.0, 271.0, 86.0, 192.0, 50.0, 58.0, 92.0, 3.0, 47.0, 90.0, 68.0, 31.0, 79.0, 132.0, 190.0, 104.0, 215.0, 205.0, 163.0, 288.0, 54.0, 222.0, 133.0, 217.0, 66.0, 220.0, 38.0, 72.0, 121.0, 81.0, 161.0, 36.0, 21.0, 184.0, 210.0, 168.0, 91.0, 117.0, 118.0, 236.0, 52.0, 77.0, 268.0, 281.0, 89.0, 232.0, 46.0, 156.0, 193.0, 19.0, 119.0, 291.0, 172.0, 131.0, 2.0, 188.0, 199.0, 1.0, 105.0, 59.0, 7.0, 194.0, 125.0, 116.0, 141.0, 64.0, 62.0, 84.0, 248.0, 240.0, 264.0, 75.0, 142.0, 216.0, 8.0, 153.0, 208.0, 300.0, 123.0, 41.0, 244.0, 267.0, 242.0, 108.0, 99.0, 282.0, 265.0, 114.0, 175.0, 120.0, 22.0, 37.0, 209.0, 258.0, 221.0, 187.0, 146.0, 65.0, 260.0, 270.0, 254.0, 110.0, 28.0, 13.0, 195.0, 43.0, 213.0, 253.0, 57.0, 53.0, 23.0, 251.0, 298.0, 124.0, 94.0, 35.0, 127.0, 15.0, 301.0, 223.0, 113.0, 297.0, 280.0, 98.0, 112.0, 178.0, 219.0, 109.0, 29.0, 80.0, 100.0, 160.0, 154.0, 87.0, 269.0, 198.0, 294.0, 255.0, 55.0, 115.0, 85.0, 245.0, 233.0, 63.0, 10.0, 176.0, 174.0, 275.0, 74.0, 20.0, 263.0, 247.0, 289.0, 16.0, 231.0, 182.0, 95.0, 296.0, 276.0, 170.0, 138.0, 93.0, 152.0, 295.0, 250.0, 60.0, 73.0, 278.0]\n",
            "[116 113  66  58 119 133  11 203]\n",
            "[1, 1, 1, 1, 1, 1, 1, 1]\n",
            "[(1, 8)]\n"
          ],
          "name": "stdout"
        }
      ]
    },
    {
      "cell_type": "code",
      "metadata": {
        "colab": {
          "base_uri": "https://localhost:8080/"
        },
        "id": "3Y6b9djDKZ9y",
        "outputId": "17ad82aa-443d-4a98-8da8-57eeff7fab8f"
      },
      "source": [
        "print(tetangga)"
      ],
      "execution_count": 19,
      "outputs": [
        {
          "output_type": "stream",
          "text": [
            "[116 113  66  58 119 133  11 203]\n"
          ],
          "name": "stdout"
        }
      ]
    },
    {
      "cell_type": "markdown",
      "metadata": {
        "id": "MoXN-m1VEV_K"
      },
      "source": [
        "###Perhitungan Dengan Scikit Learn"
      ]
    },
    {
      "cell_type": "code",
      "metadata": {
        "id": "Pq4zn1W2DSUb",
        "colab": {
          "base_uri": "https://localhost:8080/"
        },
        "outputId": "769b5f65-de97-4fd3-babf-64504879d9cc"
      },
      "source": [
        "knn = KNeighborsClassifier(n_neighbors = 2)  # n_neighbors means k\n",
        "knn.fit(x_train.T, y_train.T)\n",
        "prediction = knn.predict(x_test.T)\n",
        "\n",
        "print(\"{} NN Score: {:.2f}%\".format(2, knn.score(x_test.T, y_test.T)*100))"
      ],
      "execution_count": 20,
      "outputs": [
        {
          "output_type": "stream",
          "text": [
            "2 NN Score: 73.68%\n"
          ],
          "name": "stdout"
        }
      ]
    },
    {
      "cell_type": "code",
      "metadata": {
        "colab": {
          "base_uri": "https://localhost:8080/",
          "height": 298
        },
        "id": "-ykICNVpK62f",
        "outputId": "4619264e-c8da-4922-ad64-44c4e28b8072"
      },
      "source": [
        "#Mencari nilai k yang terbaik\n",
        "accuracies = {}\n",
        "scoreList = []\n",
        "for i in range(1,20):\n",
        "    knn2 = KNeighborsClassifier(n_neighbors = i)  # n_neighbors means k\n",
        "    knn2.fit(x_train.T, y_train.T)\n",
        "    scoreList.append(knn2.score(x_test.T, y_test.T))\n",
        "    \n",
        "plt.plot(range(1,20), scoreList)\n",
        "plt.xticks(np.arange(1,20,1))\n",
        "plt.xlabel(\"K value\")\n",
        "plt.ylabel(\"Score\")\n",
        "plt.show()\n",
        "\n",
        "acc = max(scoreList)*100\n",
        "accuracies['KNN'] = acc\n",
        "print(\"Maksimum nilai KNN adalah {:.2f}%\".format(acc))"
      ],
      "execution_count": 21,
      "outputs": [
        {
          "output_type": "display_data",
          "data": {
            "image/png": "[encoded data removed]",
            "text/plain": [
              "<Figure size 432x288 with 1 Axes>"
            ]
          },
          "metadata": {
            "tags": [],
            "needs_background": "light"
          }
        },
        {
          "output_type": "stream",
          "text": [
            "Maksimum nilai KNN adalah 85.53%\n"
          ],
          "name": "stdout"
        }
      ]
    },
    {
      "cell_type": "markdown",
      "metadata": {
        "id": "zfnmZ6g8LEGf"
      },
      "source": [
        "#**Matriks Konfusi KNN**"
      ]
    },
    {
      "cell_type": "code",
      "metadata": {
        "colab": {
          "base_uri": "https://localhost:8080/"
        },
        "id": "9djXeQDGLCkN",
        "outputId": "3b695bdc-fc26-462e-9a8b-010327b4aefa"
      },
      "source": [
        "confusion_matrix(y_test,prediction)"
      ],
      "execution_count": 22,
      "outputs": [
        {
          "output_type": "execute_result",
          "data": {
            "text/plain": [
              "array([[33,  6],\n",
              "       [14, 23]])"
            ]
          },
          "metadata": {
            "tags": []
          },
          "execution_count": 22
        }
      ]
    },
    {
      "cell_type": "markdown",
      "metadata": {
        "id": "ADowWb-wLTdZ"
      },
      "source": [
        "Didapatkan \n",
        "\n",
        "- True Positif : 33\n",
        "- True Negatif : 23\n",
        "- False Positif : 6\n",
        "- False Negatif : 14"
      ]
    },
    {
      "cell_type": "markdown",
      "metadata": {
        "id": "EbCipDQJMyFb"
      },
      "source": [
        "[link text](https://)#Pemodelan NB\n",
        "Model Naive Bayes\n",
        "\n",
        "Ide Dasar\n",
        "\n",
        "Naive Bayes Classifier adalah algoritme Machine Learning yang sangat populer berdasarkan teorema Bayes. Ini adalah algoritma sederhana namun sangat kuat yang bekerja dengan baik dengan kumpulan data besar, seperti data teks yang diproses sebelumnya yang membuat ribuan vektor tergantung pada jumlah kata dalam kamus. Ini bekerja sangat baik dengan proyek data teks seperti analisis data sentimen, berkinerja baik dengan proyek kategorisasi dokumen, dan juga bagus dalam memprediksi data kategorikal dalam proyek seperti klasifikasi spam email.\n",
        "\n",
        "Terminologi Dasar\n",
        "\n",
        "Menerapkan Persamaan Teorema Bayes dalam Algoritma Mari kita uraikan persamaan kita dan pahami cara kerjanya:\n",
        "\n",
        "1. P(A|B) adalah probabilitas posterior kelas (target) yang diberikan prediktor (atribut).\n",
        "2. P(B) adalah probabilitas kelas prior.\n",
        "3. P(B|A) adalah kemungkinan yang merupakan probabilitas kelas prediktor yang diberikan.\n",
        "4. P(A) adalah probabilitas prediktor sebelumnya.\n",
        "\n",
        "Algoritma Naive Bayes\n",
        "\n",
        "Pengklasifikasi Naive Bayes menghitung probabilitas suatu peristiwa dalam langkah-langkah berikut:\n",
        "\n",
        "1. Hitung probabilitas prior untuk label kelas tertentu\n",
        "2. Temukan probabilitas posterior dengan setiap atribut untuk setiap kelas\n",
        "3. Masukkan nilai ini ke dalam Formula Bayes dan hitung probabilitas posterior.\n",
        "4. Lihat kelas mana yang memiliki probabilitas lebih tinggi, mengingat input milik kelas probabilitas yang lebih tinggi"
      ]
    },
    {
      "cell_type": "markdown",
      "metadata": {
        "id": "XMk3B2uqM7Dk"
      },
      "source": [
        "###Penyelesaian Scratch"
      ]
    },
    {
      "cell_type": "code",
      "metadata": {
        "id": "P0dbFaM1MtA3"
      },
      "source": [
        "# Membuat dataset klasifikasi\n",
        "X, y = datasets.make_classification(n_samples=1000, n_features=10, n_classes=2, random_state=123)\n",
        "X_train, X_test, y_train, y_test = train_test_split(X, y, test_size=0.2, random_state=123)"
      ],
      "execution_count": 24,
      "outputs": []
    },
    {
      "cell_type": "code",
      "metadata": {
        "colab": {
          "base_uri": "https://localhost:8080/"
        },
        "id": "OCzdROa5NDQE",
        "outputId": "ee875199-ae48-45fb-841d-9189a81eec94"
      },
      "source": [
        "# Mengaktifkan/memanggil/membuat fungsi klasifikasi Naive bayes\n",
        "modelnb = GaussianNB()\n",
        "# Memasukkan data training pada fungsi klasifikasi naive bayes\n",
        "nbtrain = modelnb.fit(X_train, y_train)\n",
        "nbtrain.class_count_"
      ],
      "execution_count": 25,
      "outputs": [
        {
          "output_type": "execute_result",
          "data": {
            "text/plain": [
              "array([403., 397.])"
            ]
          },
          "metadata": {
            "tags": []
          },
          "execution_count": 25
        }
      ]
    },
    {
      "cell_type": "code",
      "metadata": {
        "colab": {
          "base_uri": "https://localhost:8080/"
        },
        "id": "kdJri6QzND9I",
        "outputId": "73a3a9be-1336-43ff-adfb-cf696f494b91"
      },
      "source": [
        "# Menentukan hasil prediksi dari x_test\n",
        "y_pred = nbtrain.predict(X_test)\n",
        "y_pred"
      ],
      "execution_count": 26,
      "outputs": [
        {
          "output_type": "execute_result",
          "data": {
            "text/plain": [
              "array([0, 1, 0, 0, 0, 1, 0, 1, 1, 0, 1, 0, 0, 0, 1, 1, 1, 0, 0, 0, 0, 1,\n",
              "       1, 0, 0, 1, 1, 1, 1, 0, 1, 0, 1, 0, 0, 0, 0, 0, 0, 0, 0, 1, 1, 1,\n",
              "       0, 0, 1, 1, 1, 1, 1, 1, 0, 0, 0, 1, 0, 0, 1, 1, 0, 1, 1, 1, 1, 0,\n",
              "       1, 0, 0, 0, 0, 1, 0, 0, 1, 0, 0, 1, 1, 0, 1, 0, 0, 1, 1, 0, 1, 0,\n",
              "       0, 0, 1, 0, 1, 1, 1, 1, 0, 0, 1, 1, 0, 0, 1, 1, 1, 0, 0, 0, 0, 1,\n",
              "       0, 1, 0, 1, 0, 0, 0, 0, 1, 0, 1, 1, 1, 0, 0, 0, 1, 0, 1, 1, 1, 1,\n",
              "       0, 0, 1, 1, 0, 1, 1, 1, 0, 1, 1, 0, 1, 0, 1, 0, 1, 1, 1, 0, 0, 0,\n",
              "       0, 1, 0, 1, 0, 0, 1, 0, 1, 0, 1, 0, 1, 1, 0, 0, 1, 0, 0, 0, 1, 1,\n",
              "       0, 1, 0, 0, 1, 0, 1, 1, 0, 1, 1, 1, 0, 0, 0, 0, 1, 1, 0, 0, 1, 0,\n",
              "       1, 0])"
            ]
          },
          "metadata": {
            "tags": []
          },
          "execution_count": 26
        }
      ]
    },
    {
      "cell_type": "code",
      "metadata": {
        "colab": {
          "base_uri": "https://localhost:8080/"
        },
        "id": "0ON96z-SNHGN",
        "outputId": "cbb50168-a02b-4374-9f50-b20f2d2cd2f4"
      },
      "source": [
        "# Menentukan probabilitas hasil prediksi\n",
        "nbtrain.predict_proba(X_test)"
      ],
      "execution_count": 27,
      "outputs": [
        {
          "output_type": "execute_result",
          "data": {
            "text/plain": [
              "array([[9.98518992e-01, 1.48100831e-03],\n",
              "       [2.47406667e-01, 7.52593333e-01],\n",
              "       [9.98908511e-01, 1.09148939e-03],\n",
              "       [7.50292241e-01, 2.49707759e-01],\n",
              "       [9.52819658e-01, 4.71803419e-02],\n",
              "       [1.01721314e-02, 9.89827869e-01],\n",
              "       [9.94884330e-01, 5.11567036e-03],\n",
              "       [4.30071836e-05, 9.99956993e-01],\n",
              "       [3.24093406e-04, 9.99675907e-01],\n",
              "       [9.91621982e-01, 8.37801843e-03],\n",
              "       [3.81167130e-05, 9.99961883e-01],\n",
              "       [9.61475050e-01, 3.85249496e-02],\n",
              "       [5.63548021e-01, 4.36451979e-01],\n",
              "       [9.98021470e-01, 1.97852997e-03],\n",
              "       [1.83249894e-05, 9.99981675e-01],\n",
              "       [6.89674257e-03, 9.93103257e-01],\n",
              "       [1.09391298e-04, 9.99890609e-01],\n",
              "       [9.92673527e-01, 7.32647331e-03],\n",
              "       [9.69781051e-01, 3.02189485e-02],\n",
              "       [9.89309184e-01, 1.06908162e-02],\n",
              "       [6.08444246e-01, 3.91555754e-01],\n",
              "       [8.22830902e-06, 9.99991772e-01],\n",
              "       [5.38508540e-05, 9.99946149e-01],\n",
              "       [9.96845567e-01, 3.15443296e-03],\n",
              "       [9.91700273e-01, 8.29972671e-03],\n",
              "       [1.16325659e-01, 8.83674341e-01],\n",
              "       [4.50749869e-03, 9.95492501e-01],\n",
              "       [2.43895586e-04, 9.99756104e-01],\n",
              "       [7.27048336e-03, 9.92729517e-01],\n",
              "       [9.67435179e-01, 3.25648213e-02],\n",
              "       [2.98181587e-08, 9.99999970e-01],\n",
              "       [9.95724371e-01, 4.27562886e-03],\n",
              "       [5.30991898e-05, 9.99946901e-01],\n",
              "       [9.99221093e-01, 7.78906530e-04],\n",
              "       [9.97362278e-01, 2.63772176e-03],\n",
              "       [9.98646986e-01, 1.35301414e-03],\n",
              "       [9.95895221e-01, 4.10477882e-03],\n",
              "       [9.87351008e-01, 1.26489916e-02],\n",
              "       [9.83406146e-01, 1.65938542e-02],\n",
              "       [9.93818504e-01, 6.18149583e-03],\n",
              "       [9.53561932e-01, 4.64380679e-02],\n",
              "       [8.70056820e-04, 9.99129943e-01],\n",
              "       [6.94363768e-04, 9.99305636e-01],\n",
              "       [2.65529534e-08, 9.99999973e-01],\n",
              "       [9.99249194e-01, 7.50806137e-04],\n",
              "       [9.97223330e-01, 2.77666979e-03],\n",
              "       [3.43790382e-04, 9.99656210e-01],\n",
              "       [5.90942581e-06, 9.99994091e-01],\n",
              "       [1.23100979e-01, 8.76899021e-01],\n",
              "       [1.97476715e-03, 9.98025233e-01],\n",
              "       [2.22760042e-04, 9.99777240e-01],\n",
              "       [8.50383556e-03, 9.91496164e-01],\n",
              "       [9.99620005e-01, 3.79995098e-04],\n",
              "       [9.95144364e-01, 4.85563595e-03],\n",
              "       [9.65714564e-01, 3.42854356e-02],\n",
              "       [9.14345899e-03, 9.90856541e-01],\n",
              "       [9.99649764e-01, 3.50236040e-04],\n",
              "       [9.92769197e-01, 7.23080286e-03],\n",
              "       [1.04569324e-02, 9.89543068e-01],\n",
              "       [5.33834780e-04, 9.99466165e-01],\n",
              "       [9.51293922e-01, 4.87060775e-02],\n",
              "       [7.03763991e-04, 9.99296236e-01],\n",
              "       [2.74069608e-07, 9.99999726e-01],\n",
              "       [1.78854528e-03, 9.98211455e-01],\n",
              "       [1.48719512e-06, 9.99998513e-01],\n",
              "       [9.84488857e-01, 1.55111428e-02],\n",
              "       [8.81404096e-04, 9.99118596e-01],\n",
              "       [9.88438908e-01, 1.15610924e-02],\n",
              "       [9.94636375e-01, 5.36362507e-03],\n",
              "       [9.99175311e-01, 8.24688754e-04],\n",
              "       [9.99671931e-01, 3.28069147e-04],\n",
              "       [6.18795455e-08, 9.99999938e-01],\n",
              "       [9.93040361e-01, 6.95963946e-03],\n",
              "       [9.45531243e-01, 5.44687568e-02],\n",
              "       [1.53599873e-03, 9.98464001e-01],\n",
              "       [9.84205616e-01, 1.57943836e-02],\n",
              "       [9.03480338e-01, 9.65196622e-02],\n",
              "       [8.33542549e-03, 9.91664575e-01],\n",
              "       [2.48835565e-03, 9.97511644e-01],\n",
              "       [9.76590625e-01, 2.34093754e-02],\n",
              "       [1.97814960e-03, 9.98021850e-01],\n",
              "       [8.36396671e-01, 1.63603329e-01],\n",
              "       [9.99315458e-01, 6.84542204e-04],\n",
              "       [3.64276894e-04, 9.99635723e-01],\n",
              "       [1.25059822e-04, 9.99874940e-01],\n",
              "       [9.99790706e-01, 2.09294345e-04],\n",
              "       [4.08766003e-03, 9.95912340e-01],\n",
              "       [9.97992530e-01, 2.00747009e-03],\n",
              "       [9.58297081e-01, 4.17029187e-02],\n",
              "       [8.91696671e-01, 1.08303329e-01],\n",
              "       [9.21343002e-04, 9.99078657e-01],\n",
              "       [9.25596896e-01, 7.44031037e-02],\n",
              "       [3.48285919e-01, 6.51714081e-01],\n",
              "       [4.92998783e-04, 9.99507001e-01],\n",
              "       [3.10677636e-07, 9.99999689e-01],\n",
              "       [5.69001173e-02, 9.43099883e-01],\n",
              "       [9.91311191e-01, 8.68880919e-03],\n",
              "       [9.99854564e-01, 1.45436209e-04],\n",
              "       [8.86736937e-03, 9.91132631e-01],\n",
              "       [4.47821438e-04, 9.99552179e-01],\n",
              "       [9.29136613e-01, 7.08633866e-02],\n",
              "       [9.99144961e-01, 8.55038797e-04],\n",
              "       [9.92284417e-04, 9.99007716e-01],\n",
              "       [1.73185970e-06, 9.99998268e-01],\n",
              "       [1.87303685e-03, 9.98126963e-01],\n",
              "       [9.94638105e-01, 5.36189473e-03],\n",
              "       [9.97298756e-01, 2.70124435e-03],\n",
              "       [9.98941097e-01, 1.05890311e-03],\n",
              "       [9.98061921e-01, 1.93807883e-03],\n",
              "       [2.02392043e-02, 9.79760796e-01],\n",
              "       [8.63070412e-01, 1.36929588e-01],\n",
              "       [1.35058386e-01, 8.64941614e-01],\n",
              "       [9.91641688e-01, 8.35831205e-03],\n",
              "       [1.53056768e-05, 9.99984694e-01],\n",
              "       [9.11949465e-01, 8.80505352e-02],\n",
              "       [9.25714553e-01, 7.42854475e-02],\n",
              "       [9.74163279e-01, 2.58367209e-02],\n",
              "       [9.54274986e-01, 4.57250142e-02],\n",
              "       [4.33456966e-04, 9.99566543e-01],\n",
              "       [9.88835135e-01, 1.11648649e-02],\n",
              "       [2.19065057e-02, 9.78093494e-01],\n",
              "       [7.90689175e-05, 9.99920931e-01],\n",
              "       [7.65293406e-03, 9.92347066e-01],\n",
              "       [9.77413914e-01, 2.25860860e-02],\n",
              "       [9.87200178e-01, 1.27998219e-02],\n",
              "       [8.73026782e-01, 1.26973218e-01],\n",
              "       [6.80185381e-06, 9.99993198e-01],\n",
              "       [8.64431798e-01, 1.35568202e-01],\n",
              "       [1.60553968e-05, 9.99983945e-01],\n",
              "       [4.05517860e-04, 9.99594482e-01],\n",
              "       [6.90727061e-05, 9.99930927e-01],\n",
              "       [7.90292767e-02, 9.20970723e-01],\n",
              "       [9.87715066e-01, 1.22849337e-02],\n",
              "       [7.41756868e-01, 2.58243132e-01],\n",
              "       [4.60525134e-01, 5.39474866e-01],\n",
              "       [9.99349449e-04, 9.99000651e-01],\n",
              "       [7.84495767e-01, 2.15504233e-01],\n",
              "       [1.28246921e-01, 8.71753079e-01],\n",
              "       [2.14799621e-03, 9.97852004e-01],\n",
              "       [7.26533926e-03, 9.92734661e-01],\n",
              "       [9.95807450e-01, 4.19254993e-03],\n",
              "       [1.08924960e-05, 9.99989108e-01],\n",
              "       [1.91051332e-03, 9.98089487e-01],\n",
              "       [9.99111570e-01, 8.88430446e-04],\n",
              "       [1.56104596e-03, 9.98438954e-01],\n",
              "       [5.33290432e-01, 4.66709568e-01],\n",
              "       [6.57817857e-04, 9.99342182e-01],\n",
              "       [9.89597810e-01, 1.04021902e-02],\n",
              "       [9.24925258e-06, 9.99990751e-01],\n",
              "       [1.05986809e-10, 1.00000000e+00],\n",
              "       [6.84636376e-03, 9.93153636e-01],\n",
              "       [9.71437654e-01, 2.85623456e-02],\n",
              "       [9.87393074e-01, 1.26069264e-02],\n",
              "       [9.95441757e-01, 4.55824259e-03],\n",
              "       [9.19594936e-01, 8.04050639e-02],\n",
              "       [2.50018113e-03, 9.97499819e-01],\n",
              "       [9.98549793e-01, 1.45020748e-03],\n",
              "       [9.79250996e-04, 9.99020749e-01],\n",
              "       [9.94044314e-01, 5.95568595e-03],\n",
              "       [9.46252925e-01, 5.37470748e-02],\n",
              "       [4.19692502e-01, 5.80307498e-01],\n",
              "       [9.98246175e-01, 1.75382461e-03],\n",
              "       [2.76193310e-02, 9.72380669e-01],\n",
              "       [9.97194487e-01, 2.80551316e-03],\n",
              "       [2.78138301e-05, 9.99972186e-01],\n",
              "       [8.10559485e-01, 1.89440515e-01],\n",
              "       [2.90875735e-08, 9.99999971e-01],\n",
              "       [3.36765820e-04, 9.99663234e-01],\n",
              "       [9.99264435e-01, 7.35565390e-04],\n",
              "       [9.97386082e-01, 2.61391812e-03],\n",
              "       [7.57033787e-04, 9.99242966e-01],\n",
              "       [6.33559865e-01, 3.66440135e-01],\n",
              "       [9.86657640e-01, 1.33423596e-02],\n",
              "       [9.93852779e-01, 6.14722125e-03],\n",
              "       [2.82466334e-01, 7.17533666e-01],\n",
              "       [7.84894989e-05, 9.99921511e-01],\n",
              "       [9.87185300e-01, 1.28146999e-02],\n",
              "       [1.01068149e-03, 9.98989319e-01],\n",
              "       [9.89643943e-01, 1.03560567e-02],\n",
              "       [9.90732159e-01, 9.26784111e-03],\n",
              "       [4.24462387e-06, 9.99995755e-01],\n",
              "       [9.79431751e-01, 2.05682491e-02],\n",
              "       [4.59312272e-04, 9.99540688e-01],\n",
              "       [3.52807137e-03, 9.96471929e-01],\n",
              "       [9.75724179e-01, 2.42758212e-02],\n",
              "       [3.35949821e-04, 9.99664050e-01],\n",
              "       [2.10914391e-06, 9.99997891e-01],\n",
              "       [9.10287956e-04, 9.99089712e-01],\n",
              "       [9.73373212e-01, 2.66267882e-02],\n",
              "       [9.99028034e-01, 9.71966360e-04],\n",
              "       [9.97548263e-01, 2.45173684e-03],\n",
              "       [9.99729335e-01, 2.70665307e-04],\n",
              "       [4.95266273e-06, 9.99995047e-01],\n",
              "       [2.87388630e-02, 9.71261137e-01],\n",
              "       [9.96221059e-01, 3.77894146e-03],\n",
              "       [9.94013017e-01, 5.98698254e-03],\n",
              "       [2.21244045e-02, 9.77875596e-01],\n",
              "       [9.24204389e-01, 7.57956112e-02],\n",
              "       [3.43152065e-07, 9.99999657e-01],\n",
              "       [9.88062457e-01, 1.19375434e-02]])"
            ]
          },
          "metadata": {
            "tags": []
          },
          "execution_count": 27
        }
      ]
    },
    {
      "cell_type": "markdown",
      "metadata": {
        "id": "YigRRn1JNTjY"
      },
      "source": [
        "###Perhitungan Scikit Learn"
      ]
    },
    {
      "cell_type": "code",
      "metadata": {
        "colab": {
          "base_uri": "https://localhost:8080/"
        },
        "id": "wSbcDjuqNMJo",
        "outputId": "894e075d-491e-4427-cab4-adb00691892e"
      },
      "source": [
        "nb = GaussianNB()\n",
        "nb.fit(X_train, y_train)\n",
        "\n",
        "acc = nb.score(X_test,y_test)*100\n",
        "accuracies['Naive Bayes'] = acc\n",
        "print(\"Accuracy of Naive Bayes: {:.2f}%\".format(acc))"
      ],
      "execution_count": 28,
      "outputs": [
        {
          "output_type": "stream",
          "text": [
            "Accuracy of Naive Bayes: 96.50%\n"
          ],
          "name": "stdout"
        }
      ]
    },
    {
      "cell_type": "markdown",
      "metadata": {
        "id": "g25kb3f7NfK9"
      },
      "source": [
        "#Matriks Konfusi NB"
      ]
    },
    {
      "cell_type": "code",
      "metadata": {
        "colab": {
          "base_uri": "https://localhost:8080/"
        },
        "id": "LKzQKFQxNYi4",
        "outputId": "b4c37ce6-d7bf-424e-b087-f8262293cfc7"
      },
      "source": [
        "confusion_matrix(y_test,y_pred)"
      ],
      "execution_count": 29,
      "outputs": [
        {
          "output_type": "execute_result",
          "data": {
            "text/plain": [
              "array([[98,  1],\n",
              "       [ 6, 95]])"
            ]
          },
          "metadata": {
            "tags": []
          },
          "execution_count": 29
        }
      ]
    },
    {
      "cell_type": "markdown",
      "metadata": {
        "id": "r3DmcD3vNsvl"
      },
      "source": [
        "Didapatkan \n",
        "\n",
        "- True Positif : 98\n",
        "- True Negatif : 95\n",
        "- False Positif : 1\n",
        "- False Negatif : 6"
      ]
    }
  ]
}