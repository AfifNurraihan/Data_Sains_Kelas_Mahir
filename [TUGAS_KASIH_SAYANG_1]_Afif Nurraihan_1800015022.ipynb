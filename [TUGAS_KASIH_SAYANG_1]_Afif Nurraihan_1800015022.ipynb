{
  "nbformat": 4,
  "nbformat_minor": 0,
  "metadata": {
    "colab": {
      "name": "[TUGAS KASIH SAYANG 1]_IndraCahyaRamdani_1800015053.ipynb",
      "provenance": [],
      "collapsed_sections": [],
      "include_colab_link": true
    },
    "kernelspec": {
      "name": "python3",
      "display_name": "Python 3"
    },
    "language_info": {
      "name": "python"
    }
  },
  "cells": [
    {
      "cell_type": "markdown",
      "metadata": {
        "id": "view-in-github",
        "colab_type": "text"
      },
      "source": [
        "<a href=\"https://colab.research.google.com/github/AfifNurraihan/Data_Sains_Kelas_Mahir/blob/main/%5BTUGAS_KASIH_SAYANG_1%5D_Afif%20Nurraihan_1800015022.ipynb\" target=\"_parent\"><img src=\"https://colab.research.google.com/assets/colab-badge.svg\" alt=\"Open In Colab\"/></a>"
      ]
    },
    {
      "cell_type": "markdown",
      "metadata": {
        "id": "DQuw0RebNymh"
      },
      "source": [
        "![alt text](https://lh3.googleusercontent.com/-1Xzmk_Q6pUY/YMOG4DwnGbI/AAAAAAAABAQ/QwEVa4dSGnsDEqUA6dYII_iBWzu94nC4ACLcBGAsYHQ/s16000/header_NNTF.png)"
      ]
    },
    {
      "cell_type": "markdown",
      "metadata": {
        "id": "ldgVd33-TkBY"
      },
      "source": [
        "# Pendahuluan"
      ]
    },
    {
      "cell_type": "markdown",
      "metadata": {
        "id": "MWgTihJeOYwS"
      },
      "source": [
        "![alt text](https://lh3.googleusercontent.com/-c6UrBR8qr-4/YMXyc34i3II/AAAAAAAABAk/kfrehBBrwVEWLMeR9GO1ZN0-XJPdGt3PQCLcBGAsYHQ/download%2B%25288%2529.png)\n",
        "\n",
        "Dataset ini merupakan data yang berisikan angka dari 0-9. Dalam kasus ini kita akan mengklasifikasikan dari data gambar yang ada menjadi 10 kelas yaitu kelas { 'nol', 'satu', ..., 'sembilan' }. Memiliki 60000 data latih dan 10000 data uji. Saya akan mencoba membuat Model Machine Learning untuk dataset ini. Harapanya model yang dibuat bisa mengenali angka dan diklasifikasikan ke kelas tertentu sehingga jika ada gambar lain bisa dikenali dengan baik oleh model yang telah di buat."
      ]
    },
    {
      "cell_type": "markdown",
      "metadata": {
        "id": "IhxY1XpZI7tU"
      },
      "source": [
        "# Import Library"
      ]
    },
    {
      "cell_type": "code",
      "metadata": {
        "id": "cCBZrbUQI2YZ"
      },
      "source": [
        "import tensorflow as tf\n",
        "from tensorflow import keras\n",
        "import numpy as np"
      ],
      "execution_count": null,
      "outputs": []
    },
    {
      "cell_type": "markdown",
      "metadata": {
        "id": "FlwxWnt_Ucei"
      },
      "source": [
        "# Import Data Set"
      ]
    },
    {
      "cell_type": "code",
      "metadata": {
        "id": "4nV-CBAqUf4b",
        "colab": {
          "base_uri": "https://localhost:8080/"
        },
        "outputId": "761a587a-0d48-46de-fa20-82368b54a9b7"
      },
      "source": [
        "mnist = tf.keras.datasets.mnist\n",
        "\n",
        "(gambar_latih, label_latih), (gambar_uji, label_uji) = mnist.load_data()"
      ],
      "execution_count": null,
      "outputs": [
        {
          "output_type": "stream",
          "text": [
            "Downloading data from https://storage.googleapis.com/tensorflow/tf-keras-datasets/mnist.npz\n",
            "11493376/11490434 [==============================] - 0s 0us/step\n"
          ],
          "name": "stdout"
        }
      ]
    },
    {
      "cell_type": "markdown",
      "metadata": {
        "id": "ebaAgsbqCkLp"
      },
      "source": [
        "Data **MNIST** merupakan data angka yang sudah disediakan oleh tensorflow untuk dijadikan latihan. Cara untuk mengimportkan dataset dari librarry tensorflow seperti sintaks di atas."
      ]
    },
    {
      "cell_type": "markdown",
      "metadata": {
        "id": "Q070BI7YWi0r"
      },
      "source": [
        "# Pengerjaan\n"
      ]
    },
    {
      "cell_type": "code",
      "metadata": {
        "id": "xm23dRiUXN7K"
      },
      "source": [
        "nama_kelas = ['Nol', 'Satu', 'Dua', 'Tiga', 'Empat', 'Lima',\n",
        "               'Enam', 'Tujuh', 'Delapan', 'Sembilan']"
      ],
      "execution_count": null,
      "outputs": []
    },
    {
      "cell_type": "markdown",
      "metadata": {
        "id": "ZygPm00-C-Rn"
      },
      "source": [
        "Kita akan memberikan nama pada setiap kelasnya mulai dari kelas *Nol* sampai *Sembilan*"
      ]
    },
    {
      "cell_type": "code",
      "metadata": {
        "colab": {
          "base_uri": "https://localhost:8080/"
        },
        "id": "QY5Z_6EwWn62",
        "outputId": "cc9f2186-1388-41fc-d4a1-cd79336f0784"
      },
      "source": [
        "gambar_latih.shape"
      ],
      "execution_count": null,
      "outputs": [
        {
          "output_type": "execute_result",
          "data": {
            "text/plain": [
              "(60000, 28, 28)"
            ]
          },
          "metadata": {
            "tags": []
          },
          "execution_count": 4
        }
      ]
    },
    {
      "cell_type": "markdown",
      "metadata": {
        "id": "UDEcNOR3DovN"
      },
      "source": [
        "Data latih berisikan 60000 Baris"
      ]
    },
    {
      "cell_type": "code",
      "metadata": {
        "colab": {
          "base_uri": "https://localhost:8080/"
        },
        "id": "yo6qJEvDWsW1",
        "outputId": "9e79923e-f60a-4178-b457-15ec942e3ecc"
      },
      "source": [
        "len(label_latih)"
      ],
      "execution_count": null,
      "outputs": [
        {
          "output_type": "execute_result",
          "data": {
            "text/plain": [
              "60000"
            ]
          },
          "metadata": {
            "tags": []
          },
          "execution_count": 5
        }
      ]
    },
    {
      "cell_type": "code",
      "metadata": {
        "colab": {
          "base_uri": "https://localhost:8080/"
        },
        "id": "6KllPVZzWvye",
        "outputId": "6fd79080-485f-4ce5-9dab-bb351fc0e874"
      },
      "source": [
        "gambar_uji.shape"
      ],
      "execution_count": null,
      "outputs": [
        {
          "output_type": "execute_result",
          "data": {
            "text/plain": [
              "(10000, 28, 28)"
            ]
          },
          "metadata": {
            "tags": []
          },
          "execution_count": 6
        }
      ]
    },
    {
      "cell_type": "code",
      "metadata": {
        "colab": {
          "base_uri": "https://localhost:8080/"
        },
        "id": "fXI8R1XGWyU5",
        "outputId": "72e9170c-8066-491a-96c3-27fe309d854d"
      },
      "source": [
        "len(label_uji)"
      ],
      "execution_count": null,
      "outputs": [
        {
          "output_type": "execute_result",
          "data": {
            "text/plain": [
              "10000"
            ]
          },
          "metadata": {
            "tags": []
          },
          "execution_count": 7
        }
      ]
    },
    {
      "cell_type": "markdown",
      "metadata": {
        "id": "Z1ofRjVfECnc"
      },
      "source": [
        "Data Test, memiliki 10000 data"
      ]
    },
    {
      "cell_type": "code",
      "metadata": {
        "colab": {
          "base_uri": "https://localhost:8080/",
          "height": 265
        },
        "id": "qpennQa0W1Q0",
        "outputId": "f40a6f53-60c6-499c-905a-b55d81220efa"
      },
      "source": [
        "import matplotlib.pyplot as plt\n",
        "plt.figure()\n",
        "plt.imshow(gambar_latih[0])\n",
        "plt.colorbar()\n",
        "plt.grid(False)\n",
        "plt.show()"
      ],
      "execution_count": null,
      "outputs": [
        {
          "output_type": "display_data",
          "data": {
            "image/png": "[encoded data removed]",
            "text/plain": [
              "<Figure size 432x288 with 2 Axes>"
            ]
          },
          "metadata": {
            "tags": [],
            "needs_background": "light"
          }
        }
      ]
    },
    {
      "cell_type": "markdown",
      "metadata": {
        "id": "WeEK78UyEZwc"
      },
      "source": [
        "Karena data training memiliki 60000 data maka kita akan mengambil salah satu data yaitu data ke 0. Ternyata gambar yang muncul adalah angka 5 seperti gambar di atas"
      ]
    },
    {
      "cell_type": "code",
      "metadata": {
        "id": "4C5qICNVW59v"
      },
      "source": [
        "gambar_latih = gambar_latih / 255.0\n",
        "\n",
        "gambar_uji = gambar_uji / 255.0"
      ],
      "execution_count": null,
      "outputs": []
    },
    {
      "cell_type": "code",
      "metadata": {
        "colab": {
          "base_uri": "https://localhost:8080/",
          "height": 589
        },
        "id": "oiS8NV81W9HB",
        "outputId": "3201fda6-2528-4e56-882f-52063e1b1b59"
      },
      "source": [
        "plt.figure(figsize=(10,10))\n",
        "for i in range(25):\n",
        "    plt.subplot(5,5,i+1)\n",
        "    plt.xticks([])\n",
        "    plt.yticks([])\n",
        "    plt.grid(False)\n",
        "    plt.imshow(gambar_latih[i], cmap=plt.cm.binary)\n",
        "    plt.xlabel(nama_kelas[label_latih[i]])\n",
        "plt.show()"
      ],
      "execution_count": null,
      "outputs": [
        {
          "output_type": "display_data",
          "data": {
            "image/png": "[encoded data removed]",
            "text/plain": [
              "<Figure size 720x720 with 25 Axes>"
            ]
          },
          "metadata": {
            "tags": []
          }
        }
      ]
    },
    {
      "cell_type": "markdown",
      "metadata": {
        "id": "_IceQgpnE5q8"
      },
      "source": [
        "Menampilkan 25 data pertama dan diperoleh seperti gambar diatas"
      ]
    },
    {
      "cell_type": "markdown",
      "metadata": {
        "id": "fkBLU0HCfndd"
      },
      "source": [
        "# Proses Membuat Model"
      ]
    },
    {
      "cell_type": "markdown",
      "metadata": {
        "id": "z_vIRy6jfxPd"
      },
      "source": [
        "## Training"
      ]
    },
    {
      "cell_type": "code",
      "metadata": {
        "id": "OkaWPmYVZT-f"
      },
      "source": [
        "# Membangun Model \n",
        "model = tf.keras.Sequential([\n",
        "    tf.keras.layers.Flatten(input_shape=(28, 28)),                   # layer Input\n",
        "    tf.keras.layers.Dense(128, activation='relu'),                   # Hiden Layer Pertama\n",
        "    tf.keras.layers.Dense(10)                                        # Layer Output\n",
        "])"
      ],
      "execution_count": null,
      "outputs": []
    },
    {
      "cell_type": "markdown",
      "metadata": {
        "id": "wIGwG0vEFFWM"
      },
      "source": [
        "Layer input diberikan dengan ukuran gambar 28 px x 28 px, selanjutnya di eksekusi oleh hiden layer dengan 128 Neuron dengan fungsi aktivasi Relu. Dan terakhir layer output dengan 10 output."
      ]
    },
    {
      "cell_type": "code",
      "metadata": {
        "id": "qYGqURMKZY6B"
      },
      "source": [
        "model.compile(loss=tf.keras.losses.SparseCategoricalCrossentropy(from_logits=True),  # Fungsi Loss\n",
        "              \n",
        "              optimizer='adam',                                                      # Fungsi Optimasi\n",
        "              \n",
        "              metrics=['accuracy'])                                                  # Metrik akurasi"
      ],
      "execution_count": null,
      "outputs": []
    },
    {
      "cell_type": "markdown",
      "metadata": {
        "id": "Ac8dMuuQFygc"
      },
      "source": [
        "Menambahkan fungsi optimisasi **adam** den metrik **akurasi**"
      ]
    },
    {
      "cell_type": "code",
      "metadata": {
        "colab": {
          "base_uri": "https://localhost:8080/"
        },
        "id": "mTmmbKE_ZcIt",
        "outputId": "67872905-c678-48dc-d9f2-cda4953d10b1"
      },
      "source": [
        "model.fit(gambar_latih,                         # Data latih\n",
        "          label_latih,                          # Label latih\n",
        "          epochs=10)                            # Epoch(iterasi)"
      ],
      "execution_count": null,
      "outputs": [
        {
          "output_type": "stream",
          "text": [
            "Epoch 1/10\n",
            "1875/1875 [==============================] - 4s 2ms/step - loss: 0.2580 - accuracy: 0.9273\n",
            "Epoch 2/10\n",
            "1875/1875 [==============================] - 3s 2ms/step - loss: 0.1147 - accuracy: 0.9653\n",
            "Epoch 3/10\n",
            "1875/1875 [==============================] - 3s 2ms/step - loss: 0.0785 - accuracy: 0.9758\n",
            "Epoch 4/10\n",
            "1875/1875 [==============================] - 3s 2ms/step - loss: 0.0592 - accuracy: 0.9819\n",
            "Epoch 5/10\n",
            "1875/1875 [==============================] - 4s 2ms/step - loss: 0.0462 - accuracy: 0.9861\n",
            "Epoch 6/10\n",
            "1875/1875 [==============================] - 4s 2ms/step - loss: 0.0356 - accuracy: 0.9891\n",
            "Epoch 7/10\n",
            "1875/1875 [==============================] - 3s 2ms/step - loss: 0.0286 - accuracy: 0.9908\n",
            "Epoch 8/10\n",
            "1875/1875 [==============================] - 3s 2ms/step - loss: 0.0223 - accuracy: 0.9931\n",
            "Epoch 9/10\n",
            "1875/1875 [==============================] - 3s 2ms/step - loss: 0.0190 - accuracy: 0.9941\n",
            "Epoch 10/10\n",
            "1875/1875 [==============================] - 3s 2ms/step - loss: 0.0165 - accuracy: 0.9948\n"
          ],
          "name": "stdout"
        },
        {
          "output_type": "execute_result",
          "data": {
            "text/plain": [
              "<tensorflow.python.keras.callbacks.History at 0x7f5a5fe07c90>"
            ]
          },
          "metadata": {
            "tags": []
          },
          "execution_count": 13
        }
      ]
    },
    {
      "cell_type": "markdown",
      "metadata": {
        "id": "8wjGWV1wGG1s"
      },
      "source": [
        "Melakukan pelatihan dengan 10 kali iterasi. diperoleh akurasi dari pelatihan dan loss. seperti data yang di atas."
      ]
    },
    {
      "cell_type": "code",
      "metadata": {
        "colab": {
          "base_uri": "https://localhost:8080/"
        },
        "id": "zGzRKbIUZhdo",
        "outputId": "120a3feb-ece6-4e1d-91a5-86b817d5ce08"
      },
      "source": [
        "test_loss, test_acc = model.evaluate(gambar_uji,  label_uji, verbose=2)\n",
        "\n",
        "print('\\nTingkat Akurasi Pengujian:', test_acc)"
      ],
      "execution_count": null,
      "outputs": [
        {
          "output_type": "stream",
          "text": [
            "313/313 - 0s - loss: 0.0850 - accuracy: 0.9772\n",
            "\n",
            "Tingkat Akurasi Pengujian: 0.9771999716758728\n"
          ],
          "name": "stdout"
        }
      ]
    },
    {
      "cell_type": "markdown",
      "metadata": {
        "id": "V18EUR-hHHF-"
      },
      "source": [
        "Setelah melakukan validasi tingkat akurasi yang diperoleh adalah 97.7%."
      ]
    },
    {
      "cell_type": "markdown",
      "metadata": {
        "id": "DXx8dhoDf3r8"
      },
      "source": [
        "## Testing"
      ]
    },
    {
      "cell_type": "markdown",
      "metadata": {
        "id": "tY8OEjhZI9jY"
      },
      "source": [
        "Kita akan melakukan test pada model machine learning yang telah di buat."
      ]
    },
    {
      "cell_type": "code",
      "metadata": {
        "id": "D15lwnQBZmZ-"
      },
      "source": [
        "probability_model = tf.keras.Sequential([model, \n",
        "                                         tf.keras.layers.Softmax()])"
      ],
      "execution_count": null,
      "outputs": []
    },
    {
      "cell_type": "code",
      "metadata": {
        "id": "mBJBpHIKZoue"
      },
      "source": [
        "prediksi = probability_model.predict(gambar_uji)"
      ],
      "execution_count": null,
      "outputs": []
    },
    {
      "cell_type": "markdown",
      "metadata": {
        "id": "IXVPTF97JLGU"
      },
      "source": [
        "**Karena** kita akan melihat apakah prediksi yang dibuat berhasil setelah membuat model machine learningnya. Untuk melakukan proof kita akan mengambil salah satu data pada data uji yaitu data indeks ke-3"
      ]
    },
    {
      "cell_type": "code",
      "metadata": {
        "colab": {
          "base_uri": "https://localhost:8080/",
          "height": 269
        },
        "id": "x6xMgzBjcbh_",
        "outputId": "1c368d55-3baf-4e21-da0a-2b5056c0539c"
      },
      "source": [
        "plt.figure()\n",
        "plt.imshow(gambar_uji[3])\n",
        "plt.colorbar()\n",
        "plt.grid(False)\n",
        "plt.show()"
      ],
      "execution_count": null,
      "outputs": [
        {
          "output_type": "display_data",
          "data": {
            "image/png": "[encoded data removed]",
            "text/plain": [
              "<Figure size 432x288 with 2 Axes>"
            ]
          },
          "metadata": {
            "tags": [],
            "needs_background": "light"
          }
        }
      ]
    },
    {
      "cell_type": "markdown",
      "metadata": {
        "id": "dkzdjHbIJzj7"
      },
      "source": [
        "**Data indeks ke 3** dari Data Test menunjukan seperti gambar angka 0 atau bisa 6"
      ]
    },
    {
      "cell_type": "code",
      "metadata": {
        "colab": {
          "base_uri": "https://localhost:8080/"
        },
        "id": "LzV1gq32ZrhZ",
        "outputId": "ddb158e2-ef51-4e58-a392-d98bcab9bbda"
      },
      "source": [
        "prediksi[3]"
      ],
      "execution_count": null,
      "outputs": [
        {
          "output_type": "execute_result",
          "data": {
            "text/plain": [
              "array([9.9988449e-01, 5.4785527e-11, 9.5721643e-06, 6.6375039e-10,\n",
              "       3.8308121e-09, 1.0458743e-13, 1.0494580e-04, 8.9548394e-07,\n",
              "       5.8779560e-14, 5.8411377e-08], dtype=float32)"
            ]
          },
          "metadata": {
            "tags": []
          },
          "execution_count": 18
        }
      ]
    },
    {
      "cell_type": "markdown",
      "metadata": {
        "id": "cfAWmtExLiTR"
      },
      "source": [
        "Ini merupakan array probabilitas dari gambar indeks ke 3 ke kelas-kelas yang ada. semakin besar angkanya berarti menunjukan kelasnya."
      ]
    },
    {
      "cell_type": "code",
      "metadata": {
        "colab": {
          "base_uri": "https://localhost:8080/"
        },
        "id": "b-bwGCsuZxbc",
        "outputId": "3f493705-d329-466b-b728-ee5d60bd02e2"
      },
      "source": [
        "np.argmax(prediksi[3])"
      ],
      "execution_count": null,
      "outputs": [
        {
          "output_type": "execute_result",
          "data": {
            "text/plain": [
              "0"
            ]
          },
          "metadata": {
            "tags": []
          },
          "execution_count": 19
        }
      ]
    },
    {
      "cell_type": "code",
      "metadata": {
        "colab": {
          "base_uri": "https://localhost:8080/"
        },
        "id": "1GS6xwtSZ4OE",
        "outputId": "749c54ca-df60-4146-8ff3-5e49fd4e234f"
      },
      "source": [
        "label_uji[3]"
      ],
      "execution_count": null,
      "outputs": [
        {
          "output_type": "execute_result",
          "data": {
            "text/plain": [
              "0"
            ]
          },
          "metadata": {
            "tags": []
          },
          "execution_count": 20
        }
      ]
    },
    {
      "cell_type": "markdown",
      "metadata": {
        "id": "rln53Ug9MBxZ"
      },
      "source": [
        "**Diperoleh** dataa test indeks ke 3 merupakan kelas 0. hasil ini sesuai dengan gambar yang diperoleh di atas."
      ]
    }
  ]
}